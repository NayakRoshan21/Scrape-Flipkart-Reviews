{
 "cells": [
  {
   "cell_type": "code",
   "execution_count": 24,
   "metadata": {},
   "outputs": [],
   "source": [
    "import os\n",
    "from selenium import webdriver\n",
    "from selenium.webdriver.common.keys import Keys\n",
    "from selenium.webdriver.common.by import By\n",
    "from selenium.webdriver.support.ui import WebDriverWait\n",
    "from selenium.webdriver.support import expected_conditions as EC"
   ]
  },
  {
   "cell_type": "markdown",
   "metadata": {},
   "source": [
    "## Set the driver."
   ]
  },
  {
   "cell_type": "code",
   "execution_count": 25,
   "metadata": {},
   "outputs": [],
   "source": [
    "path = os.path.join(os.getcwd(), \"chromedriver.exe\")\n",
    "driver = webdriver.Chrome(path)"
   ]
  },
  {
   "cell_type": "markdown",
   "metadata": {},
   "source": [
    "## Go to the site."
   ]
  },
  {
   "cell_type": "code",
   "execution_count": 26,
   "metadata": {},
   "outputs": [],
   "source": [
    "url = \"https://www.flipkart.com/?affid=affnetm&affExtParam1=1062&affExtParam2=9050529\"\n",
    "driver.get(url)"
   ]
  },
  {
   "cell_type": "markdown",
   "metadata": {},
   "source": [
    "## Search for required thing."
   ]
  },
  {
   "cell_type": "code",
   "execution_count": 27,
   "metadata": {},
   "outputs": [],
   "source": [
    "search_bar = driver.find_element_by_name('q')\n",
    "\n",
    "search_string = \"Machine Learning Books\"\n",
    "search_bar.clear()\n",
    "search_bar.send_keys(search_string)\n",
    "search_bar.send_keys(Keys.RETURN)"
   ]
  },
  {
   "cell_type": "markdown",
   "metadata": {},
   "source": [
    "## Get all items from the search."
   ]
  },
  {
   "cell_type": "code",
   "execution_count": 28,
   "metadata": {},
   "outputs": [
    {
     "name": "stdout",
     "output_type": "stream",
     "text": [
      "40 books found.\n"
     ]
    }
   ],
   "source": [
    "items_link = driver.find_elements_by_class_name(\"_2cLu-l\")\n",
    "\n",
    "items_name = []\n",
    "for item in items_link:\n",
    "    items_name.append(item.text)\n",
    "    \n",
    "print(str(len(items_name)) + \" books found.\")"
   ]
  },
  {
   "cell_type": "code",
   "execution_count": 29,
   "metadata": {},
   "outputs": [
    {
     "data": {
      "text/plain": [
       "['Machine Learning',\n",
       " 'Hands-On Machine Learning with Scikit-Learn and Tensor ...',\n",
       " 'Hands-On Machine Learning with Scikit-Learn, Keras, and...',\n",
       " 'Machine Learning',\n",
       " 'Introduction to Machine Learning with Python - A Guide ...',\n",
       " 'Understanding Machine Learning',\n",
       " 'Data Science with Machine Learning -',\n",
       " 'Machine Learning Using Python',\n",
       " 'Python Machine Learning -',\n",
       " 'Hands-On Ensemble Learning with R',\n",
       " 'INTRO. TO MACHINE LEARNING, 3/E',\n",
       " 'Pragmatic AI | An Introduction to Cloud-Based Machine L...',\n",
       " 'Artificial Intelligence and Machine Learning',\n",
       " 'Machine Learning',\n",
       " 'Superintelligence',\n",
       " \"A Data Scientist's Guide to Acquiring, Cleaning, and Ma...\",\n",
       " 'Machine Learning with R -',\n",
       " 'Python Machine Learning Cookbook',\n",
       " 'Machine Learning (in Python and R) for Dummies',\n",
       " 'Statistical Methods for Recommender Systems',\n",
       " 'Advanced Machine Learning with Python',\n",
       " 'Linear Algebra and Learning from Data',\n",
       " 'Large Scale Machine Learning with Spark',\n",
       " 'Hands-On Automated Machine Learning',\n",
       " 'The Machine is Learning',\n",
       " 'Machine Learning Techniques for BE Anna University R17 ...',\n",
       " 'Machine Learning and Applications For B.E. Pune Univers...',\n",
       " 'Deep Learning - Deep Learning',\n",
       " 'Mathematical Analysis For Machine Learning And Data Min...',\n",
       " 'Machine Learning with R',\n",
       " 'Introduction to Applied Linear Algebra',\n",
       " 'Machine Learning for Hackers',\n",
       " 'Machine Learning',\n",
       " 'How We Learn',\n",
       " 'Algorithms for Optimization',\n",
       " 'Mastering Machine Learning on AWS',\n",
       " 'Mastering Machine Learning for Penetration Testing',\n",
       " 'Practical Automated Machine Learning on Azure: Using Az...',\n",
       " 'Machine Learning for Email: Spam Filtering and Priority...',\n",
       " 'The Hundred-Page Machine Learning Book']"
      ]
     },
     "execution_count": 29,
     "metadata": {},
     "output_type": "execute_result"
    }
   ],
   "source": [
    "items_name"
   ]
  },
  {
   "cell_type": "markdown",
   "metadata": {},
   "source": [
    "## Select the item."
   ]
  },
  {
   "cell_type": "code",
   "execution_count": 30,
   "metadata": {},
   "outputs": [],
   "source": [
    "item_name_selected = \"Machine Learning Using Python\"\n",
    "\n",
    "item_text_link = driver.find_element_by_link_text(item_name_selected)\n",
    "item_text_link.click()"
   ]
  },
  {
   "cell_type": "markdown",
   "metadata": {},
   "source": [
    "## Get the necessary data."
   ]
  },
  {
   "cell_type": "code",
   "execution_count": 46,
   "metadata": {},
   "outputs": [],
   "source": [
    "#switch tab before that.\n",
    "driver.switch_to.window(driver.window_handles[0])\n",
    "driver.close()\n",
    "driver.switch_to.window(driver.window_handles[0])"
   ]
  },
  {
   "cell_type": "markdown",
   "metadata": {},
   "source": [
    "### item Description."
   ]
  },
  {
   "cell_type": "code",
   "execution_count": 67,
   "metadata": {},
   "outputs": [
    {
     "name": "stdout",
     "output_type": "stream",
     "text": [
      "This book is written to provide a strong foundation in Machine Learning using Python libraries by providing real-life case studies and examples. It covers topics such as Foundations of Machine Learning, Introduction to Python, Descriptive Analytics and Predictive Analytics. Advanced Machine Learning concepts such as decision tree learning, random forest, boosting, recommender systems, and text analytics are covered. The book takes a balanced approach between theoretical understanding and practical applications. All the topics include real-world examples and provide step-by-step approach on how to explore, build, evaluate, and optimize machine learning models.\n"
     ]
    }
   ],
   "source": [
    "outer_tag = driver.find_elements_by_class_name(\"_3cpW1u\")\n",
    "#description_tag = outer_tag.find_element_by_class_name(\"_3la3Fn _1zZOAc\")\n",
    "print(outer_tag[1].text)"
   ]
  },
  {
   "cell_type": "markdown",
   "metadata": {},
   "source": [
    "### Item Ratings."
   ]
  },
  {
   "cell_type": "code",
   "execution_count": 70,
   "metadata": {},
   "outputs": [
    {
     "name": "stdout",
     "output_type": "stream",
     "text": [
      "Ratings of the item out of 5: 4.6\n"
     ]
    }
   ],
   "source": [
    "rating_tag = driver.find_element_by_class_name(\"_1i0wk8\")\n",
    "print(\"Ratings of the item out of 5: \" + str(rating_tag.text))"
   ]
  },
  {
   "cell_type": "markdown",
   "metadata": {},
   "source": [
    "### Item Reviews."
   ]
  },
  {
   "cell_type": "code",
   "execution_count": 75,
   "metadata": {},
   "outputs": [],
   "source": [
    "reviews_tags = driver.find_elements_by_class_name(\"_3nrCtb\")"
   ]
  },
  {
   "cell_type": "code",
   "execution_count": 104,
   "metadata": {},
   "outputs": [],
   "source": [
    "req_string = reviews_tags[-1].text\n",
    "\n",
    "all_reviews_link = driver.find_element_by_link_text(req_string)\n",
    "all_reviews_link.click()"
   ]
  },
  {
   "cell_type": "markdown",
   "metadata": {},
   "source": [
    "#### Five reviews found."
   ]
  },
  {
   "cell_type": "code",
   "execution_count": 126,
   "metadata": {},
   "outputs": [
    {
     "name": "stdout",
     "output_type": "stream",
     "text": [
      "4\n",
      "Nice product\n",
      "Nice book for beginners\n",
      "Harish Kumar\n",
      "Certified Buyer, Mangaluru\n",
      "10 months ago\n",
      "20\n",
      "\n",
      "5\n",
      "Terrific purchase\n",
      "good\n",
      "Navneet Kundan\n",
      "Certified Buyer, Pune\n",
      "Sep, 2019\n",
      "00\n",
      "\n",
      "5\n",
      "Mind-blowing purchase\n",
      "it's good for beginners.\n",
      "Sayantan Mukhopadhyay\n",
      "Certified Buyer, Kolkata\n",
      "Jul, 2019\n",
      "10\n",
      "\n",
      "5\n",
      "Highly recommended\n",
      "it is very easy to catch the python machine learning algorithms.. Go for it don't wait...\n",
      "Hijam Singh\n",
      "Certified Buyer, Hyderabad\n",
      "Sep, 2019\n",
      "11\n",
      "\n",
      "1\n",
      "Horrible\n",
      "sent damaged book....quality also poor\n",
      "Flipkart Customer\n",
      "Certified Buyer, Hyderabad\n",
      "9 months ago\n",
      "00\n",
      "\n"
     ]
    }
   ],
   "source": [
    "reviews_rate = driver.find_elements_by_class_name(\"_1PBCrt\")\n",
    "\n",
    "for rate in reviews_rate:\n",
    "    print(rate.text)\n",
    "    print()"
   ]
  },
  {
   "cell_type": "code",
   "execution_count": 127,
   "metadata": {},
   "outputs": [
    {
     "name": "stdout",
     "output_type": "stream",
     "text": [
      "['Nice product', 'Terrific purchase', 'Mind-blowing purchase', 'Highly recommended', 'Horrible']\n"
     ]
    }
   ],
   "source": [
    "all_reviews_tags = driver.find_elements_by_class_name(\"_2xg6Ul\")\n",
    "\n",
    "reviews_heading = []\n",
    "for review in all_reviews_tags:\n",
    "    reviews_heading.append(review.text)\n",
    "    \n",
    "print(reviews_heading)"
   ]
  },
  {
   "cell_type": "code",
   "execution_count": 128,
   "metadata": {},
   "outputs": [
    {
     "name": "stdout",
     "output_type": "stream",
     "text": [
      "['Nice book for beginners', 'good', \"it's good for beginners.\", \"it is very easy to catch the python machine learning algorithms.. Go for it don't wait...\", 'sent damaged book....quality also poor']\n"
     ]
    }
   ],
   "source": [
    "reviews_text = driver.find_elements_by_class_name(\"qwjRop\")\n",
    "\n",
    "reviews = []\n",
    "for review in reviews_text:\n",
    "    reviews.append(review.text)\n",
    "    \n",
    "print(reviews)"
   ]
  },
  {
   "cell_type": "markdown",
   "metadata": {},
   "source": [
    "#### Print all the reviews."
   ]
  },
  {
   "cell_type": "code",
   "execution_count": 130,
   "metadata": {},
   "outputs": [
    {
     "name": "stdout",
     "output_type": "stream",
     "text": [
      "Nice book for beginners\n",
      "good\n",
      "it's good for beginners.\n",
      "it is very easy to catch the python machine learning algorithms.. Go for it don't wait...\n",
      "sent damaged book....quality also poor\n"
     ]
    }
   ],
   "source": [
    "for review in reviews:\n",
    "    print(review)"
   ]
  },
  {
   "cell_type": "code",
   "execution_count": null,
   "metadata": {},
   "outputs": [],
   "source": []
  }
 ],
 "metadata": {
  "kernelspec": {
   "display_name": "Python 3",
   "language": "python",
   "name": "python3"
  },
  "language_info": {
   "codemirror_mode": {
    "name": "ipython",
    "version": 3
   },
   "file_extension": ".py",
   "mimetype": "text/x-python",
   "name": "python",
   "nbconvert_exporter": "python",
   "pygments_lexer": "ipython3",
   "version": "3.7.3"
  }
 },
 "nbformat": 4,
 "nbformat_minor": 2
}
